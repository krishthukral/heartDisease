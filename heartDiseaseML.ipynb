{
 "cells": [
  {
   "cell_type": "code",
   "execution_count": 1,
   "id": "b90783ff-3134-4fbb-8dbc-9b0434b0fdbd",
   "metadata": {},
   "outputs": [],
   "source": [
    "import os\n",
    "\n",
    "%matplotlib inline\n",
    "import sys\n",
    "\n",
    "import matplotlib.pyplot as plt\n",
    "import numpy as np\n",
    "import pandas as pd\n",
    "import seaborn as sns\n",
    "# import xgboost as xgb\n",
    "from sklearn.compose import ColumnTransformer, make_column_transformer\n",
    "from sklearn.dummy import DummyClassifier\n",
    "from sklearn.ensemble import RandomForestClassifier\n",
    "from sklearn.impute import SimpleImputer\n",
    "from sklearn.linear_model import LogisticRegression\n",
    "from sklearn.metrics import (\n",
    "    classification_report,\n",
    "    confusion_matrix,\n",
    "    f1_score,\n",
    "    make_scorer,\n",
    "    plot_confusion_matrix,\n",
    ")\n",
    "from sklearn.model_selection import (\n",
    "    GridSearchCV,\n",
    "    RandomizedSearchCV,\n",
    "    cross_val_score,\n",
    "    cross_validate,\n",
    "    train_test_split,\n",
    ")\n",
    "from sklearn.pipeline import Pipeline, make_pipeline\n",
    "from sklearn.preprocessing import OneHotEncoder, OrdinalEncoder, StandardScaler\n",
    "from sklearn.svm import SVC"
   ]
  },
  {
   "cell_type": "code",
   "execution_count": 2,
   "id": "2a6f996d-0c6d-40fa-9df2-93cf90c02920",
   "metadata": {},
   "outputs": [],
   "source": [
    "dataK = pd.read_csv(\"data-2.csv\")"
   ]
  },
  {
   "cell_type": "code",
   "execution_count": 3,
   "id": "9e377e3e-a8b8-4576-a476-a1df7042d986",
   "metadata": {},
   "outputs": [],
   "source": [
    "data = pd.read_csv(\"heart_2020_cleaned.csv\")"
   ]
  },
  {
   "cell_type": "code",
   "execution_count": 4,
   "id": "ea9bab4d-948b-4b73-b14a-6cbe3104047f",
   "metadata": {},
   "outputs": [
    {
     "data": {
      "text/html": [
       "<div>\n",
       "<style scoped>\n",
       "    .dataframe tbody tr th:only-of-type {\n",
       "        vertical-align: middle;\n",
       "    }\n",
       "\n",
       "    .dataframe tbody tr th {\n",
       "        vertical-align: top;\n",
       "    }\n",
       "\n",
       "    .dataframe thead th {\n",
       "        text-align: right;\n",
       "    }\n",
       "</style>\n",
       "<table border=\"1\" class=\"dataframe\">\n",
       "  <thead>\n",
       "    <tr style=\"text-align: right;\">\n",
       "      <th></th>\n",
       "      <th>HeartDisease</th>\n",
       "      <th>BMI</th>\n",
       "      <th>Smoking</th>\n",
       "      <th>AlcoholDrinking</th>\n",
       "      <th>Stroke</th>\n",
       "      <th>PhysicalHealth</th>\n",
       "      <th>MentalHealth</th>\n",
       "      <th>DiffWalking</th>\n",
       "      <th>Sex</th>\n",
       "      <th>AgeCategory</th>\n",
       "      <th>Race</th>\n",
       "      <th>Diabetic</th>\n",
       "      <th>PhysicalActivity</th>\n",
       "      <th>GenHealth</th>\n",
       "      <th>SleepTime</th>\n",
       "      <th>Asthma</th>\n",
       "      <th>KidneyDisease</th>\n",
       "      <th>SkinCancer</th>\n",
       "    </tr>\n",
       "  </thead>\n",
       "  <tbody>\n",
       "    <tr>\n",
       "      <th>0</th>\n",
       "      <td>No</td>\n",
       "      <td>16.60</td>\n",
       "      <td>Yes</td>\n",
       "      <td>No</td>\n",
       "      <td>No</td>\n",
       "      <td>3.0</td>\n",
       "      <td>30.0</td>\n",
       "      <td>No</td>\n",
       "      <td>Female</td>\n",
       "      <td>55-59</td>\n",
       "      <td>White</td>\n",
       "      <td>Yes</td>\n",
       "      <td>Yes</td>\n",
       "      <td>Very good</td>\n",
       "      <td>5.0</td>\n",
       "      <td>Yes</td>\n",
       "      <td>No</td>\n",
       "      <td>Yes</td>\n",
       "    </tr>\n",
       "    <tr>\n",
       "      <th>1</th>\n",
       "      <td>No</td>\n",
       "      <td>20.34</td>\n",
       "      <td>No</td>\n",
       "      <td>No</td>\n",
       "      <td>Yes</td>\n",
       "      <td>0.0</td>\n",
       "      <td>0.0</td>\n",
       "      <td>No</td>\n",
       "      <td>Female</td>\n",
       "      <td>80 or older</td>\n",
       "      <td>White</td>\n",
       "      <td>No</td>\n",
       "      <td>Yes</td>\n",
       "      <td>Very good</td>\n",
       "      <td>7.0</td>\n",
       "      <td>No</td>\n",
       "      <td>No</td>\n",
       "      <td>No</td>\n",
       "    </tr>\n",
       "    <tr>\n",
       "      <th>2</th>\n",
       "      <td>No</td>\n",
       "      <td>26.58</td>\n",
       "      <td>Yes</td>\n",
       "      <td>No</td>\n",
       "      <td>No</td>\n",
       "      <td>20.0</td>\n",
       "      <td>30.0</td>\n",
       "      <td>No</td>\n",
       "      <td>Male</td>\n",
       "      <td>65-69</td>\n",
       "      <td>White</td>\n",
       "      <td>Yes</td>\n",
       "      <td>Yes</td>\n",
       "      <td>Fair</td>\n",
       "      <td>8.0</td>\n",
       "      <td>Yes</td>\n",
       "      <td>No</td>\n",
       "      <td>No</td>\n",
       "    </tr>\n",
       "    <tr>\n",
       "      <th>3</th>\n",
       "      <td>No</td>\n",
       "      <td>24.21</td>\n",
       "      <td>No</td>\n",
       "      <td>No</td>\n",
       "      <td>No</td>\n",
       "      <td>0.0</td>\n",
       "      <td>0.0</td>\n",
       "      <td>No</td>\n",
       "      <td>Female</td>\n",
       "      <td>75-79</td>\n",
       "      <td>White</td>\n",
       "      <td>No</td>\n",
       "      <td>No</td>\n",
       "      <td>Good</td>\n",
       "      <td>6.0</td>\n",
       "      <td>No</td>\n",
       "      <td>No</td>\n",
       "      <td>Yes</td>\n",
       "    </tr>\n",
       "    <tr>\n",
       "      <th>4</th>\n",
       "      <td>No</td>\n",
       "      <td>23.71</td>\n",
       "      <td>No</td>\n",
       "      <td>No</td>\n",
       "      <td>No</td>\n",
       "      <td>28.0</td>\n",
       "      <td>0.0</td>\n",
       "      <td>Yes</td>\n",
       "      <td>Female</td>\n",
       "      <td>40-44</td>\n",
       "      <td>White</td>\n",
       "      <td>No</td>\n",
       "      <td>Yes</td>\n",
       "      <td>Very good</td>\n",
       "      <td>8.0</td>\n",
       "      <td>No</td>\n",
       "      <td>No</td>\n",
       "      <td>No</td>\n",
       "    </tr>\n",
       "  </tbody>\n",
       "</table>\n",
       "</div>"
      ],
      "text/plain": [
       "  HeartDisease    BMI Smoking AlcoholDrinking Stroke  PhysicalHealth  \\\n",
       "0           No  16.60     Yes              No     No             3.0   \n",
       "1           No  20.34      No              No    Yes             0.0   \n",
       "2           No  26.58     Yes              No     No            20.0   \n",
       "3           No  24.21      No              No     No             0.0   \n",
       "4           No  23.71      No              No     No            28.0   \n",
       "\n",
       "   MentalHealth DiffWalking     Sex  AgeCategory   Race Diabetic  \\\n",
       "0          30.0          No  Female        55-59  White      Yes   \n",
       "1           0.0          No  Female  80 or older  White       No   \n",
       "2          30.0          No    Male        65-69  White      Yes   \n",
       "3           0.0          No  Female        75-79  White       No   \n",
       "4           0.0         Yes  Female        40-44  White       No   \n",
       "\n",
       "  PhysicalActivity  GenHealth  SleepTime Asthma KidneyDisease SkinCancer  \n",
       "0              Yes  Very good        5.0    Yes            No        Yes  \n",
       "1              Yes  Very good        7.0     No            No         No  \n",
       "2              Yes       Fair        8.0    Yes            No         No  \n",
       "3               No       Good        6.0     No            No        Yes  \n",
       "4              Yes  Very good        8.0     No            No         No  "
      ]
     },
     "execution_count": 4,
     "metadata": {},
     "output_type": "execute_result"
    }
   ],
   "source": [
    "data.head()"
   ]
  },
  {
   "cell_type": "markdown",
   "id": "3028f17f-a1ef-4bb3-8b98-b52ee1e6352a",
   "metadata": {},
   "source": [
    "# Introduction\n",
    "\n",
    "In this project I am going to talk about this dataset that is quite interesting is the factors that relate to heart disease. There are many numerical and boolean factors and I am going to make different visualizations to get a better feel of the data to see which factors have more effect than the other. Then after I make some graphs I hope to maybe do some training of machine learning models with different classifiers\n"
   ]
  },
  {
   "cell_type": "markdown",
   "id": "ca376a89-99aa-4ba4-a969-b161592626fa",
   "metadata": {},
   "source": [
    "# Motivation:\n",
    "\n",
    "The motivation is that I wanted to see different statistics and how they relate to heart disease. I made several plots and other statistical analysis as I was wondering how different factors affected heart disease. This was from genuine curiosity as I have always been fascinated by biology and heart disease is one of those things that I wondered what caused it. I also was planning on working in a hospital for data visualizations which is why I picked a medical condition over another data set."
   ]
  },
  {
   "cell_type": "code",
   "execution_count": 5,
   "id": "9073470a-29d4-41d5-974c-806dc50e855a",
   "metadata": {},
   "outputs": [],
   "source": [
    "\n",
    "train_df, test_df = train_test_split(data, test_size=0.3, random_state=123)"
   ]
  },
  {
   "cell_type": "code",
   "execution_count": 6,
   "id": "9a9395ae-1364-4fad-a6e4-e6249890a6e7",
   "metadata": {},
   "outputs": [
    {
     "name": "stdout",
     "output_type": "stream",
     "text": [
      "<class 'pandas.core.frame.DataFrame'>\n",
      "Int64Index: 223856 entries, 92921 to 249342\n",
      "Data columns (total 18 columns):\n",
      " #   Column            Non-Null Count   Dtype  \n",
      "---  ------            --------------   -----  \n",
      " 0   HeartDisease      223856 non-null  object \n",
      " 1   BMI               223856 non-null  float64\n",
      " 2   Smoking           223856 non-null  object \n",
      " 3   AlcoholDrinking   223856 non-null  object \n",
      " 4   Stroke            223856 non-null  object \n",
      " 5   PhysicalHealth    223856 non-null  float64\n",
      " 6   MentalHealth      223856 non-null  float64\n",
      " 7   DiffWalking       223856 non-null  object \n",
      " 8   Sex               223856 non-null  object \n",
      " 9   AgeCategory       223856 non-null  object \n",
      " 10  Race              223856 non-null  object \n",
      " 11  Diabetic          223856 non-null  object \n",
      " 12  PhysicalActivity  223856 non-null  object \n",
      " 13  GenHealth         223856 non-null  object \n",
      " 14  SleepTime         223856 non-null  float64\n",
      " 15  Asthma            223856 non-null  object \n",
      " 16  KidneyDisease     223856 non-null  object \n",
      " 17  SkinCancer        223856 non-null  object \n",
      "dtypes: float64(4), object(14)\n",
      "memory usage: 32.4+ MB\n"
     ]
    }
   ],
   "source": [
    "\n",
    "train_df.info()"
   ]
  },
  {
   "cell_type": "code",
   "execution_count": 7,
   "id": "3288a946-ed74-4c7a-917e-b689ef4c335f",
   "metadata": {},
   "outputs": [
    {
     "data": {
      "text/plain": [
       "<AxesSubplot:xlabel='BMI', ylabel='SleepTime'>"
      ]
     },
     "execution_count": 7,
     "metadata": {},
     "output_type": "execute_result"
    },
    {
     "data": {
      "image/png": "[encoded data removed]",
      "text/plain": [
       "<Figure size 432x288 with 1 Axes>"
      ]
     },
     "metadata": {
      "needs_background": "light"
     },
     "output_type": "display_data"
    }
   ],
   "source": [
    "# your code here\n",
    "data.plot.scatter(x = 'BMI', y = 'SleepTime')"
   ]
  },
  {
   "cell_type": "markdown",
   "id": "f4886650-3ff5-4aa5-9d6a-dfca71708204",
   "metadata": {},
   "source": [
    "# Purpose of scatter plot\n",
    "This was mainly used to see if there was any correlation between sleep time and bmi partly because they were also two of the only numerical data that could be used in the plot"
   ]
  },
  {
   "cell_type": "code",
   "execution_count": 8,
   "id": "dac3358d-b455-454c-b75b-96d7a4aa1a58",
   "metadata": {},
   "outputs": [
    {
     "data": {
      "text/html": [
       "<div>\n",
       "<style scoped>\n",
       "    .dataframe tbody tr th:only-of-type {\n",
       "        vertical-align: middle;\n",
       "    }\n",
       "\n",
       "    .dataframe tbody tr th {\n",
       "        vertical-align: top;\n",
       "    }\n",
       "\n",
       "    .dataframe thead th {\n",
       "        text-align: right;\n",
       "    }\n",
       "</style>\n",
       "<table border=\"1\" class=\"dataframe\">\n",
       "  <thead>\n",
       "    <tr style=\"text-align: right;\">\n",
       "      <th></th>\n",
       "      <th>BMI</th>\n",
       "      <th>PhysicalHealth</th>\n",
       "      <th>MentalHealth</th>\n",
       "      <th>SleepTime</th>\n",
       "    </tr>\n",
       "  </thead>\n",
       "  <tbody>\n",
       "    <tr>\n",
       "      <th>count</th>\n",
       "      <td>223856.000000</td>\n",
       "      <td>223856.000000</td>\n",
       "      <td>223856.000000</td>\n",
       "      <td>223856.000000</td>\n",
       "    </tr>\n",
       "    <tr>\n",
       "      <th>mean</th>\n",
       "      <td>28.327263</td>\n",
       "      <td>3.376488</td>\n",
       "      <td>3.891185</td>\n",
       "      <td>7.096817</td>\n",
       "    </tr>\n",
       "    <tr>\n",
       "      <th>std</th>\n",
       "      <td>6.361525</td>\n",
       "      <td>7.953337</td>\n",
       "      <td>7.943456</td>\n",
       "      <td>1.437735</td>\n",
       "    </tr>\n",
       "    <tr>\n",
       "      <th>min</th>\n",
       "      <td>12.020000</td>\n",
       "      <td>0.000000</td>\n",
       "      <td>0.000000</td>\n",
       "      <td>1.000000</td>\n",
       "    </tr>\n",
       "    <tr>\n",
       "      <th>25%</th>\n",
       "      <td>24.030000</td>\n",
       "      <td>0.000000</td>\n",
       "      <td>0.000000</td>\n",
       "      <td>6.000000</td>\n",
       "    </tr>\n",
       "    <tr>\n",
       "      <th>50%</th>\n",
       "      <td>27.340000</td>\n",
       "      <td>0.000000</td>\n",
       "      <td>0.000000</td>\n",
       "      <td>7.000000</td>\n",
       "    </tr>\n",
       "    <tr>\n",
       "      <th>75%</th>\n",
       "      <td>31.420000</td>\n",
       "      <td>2.000000</td>\n",
       "      <td>3.000000</td>\n",
       "      <td>8.000000</td>\n",
       "    </tr>\n",
       "    <tr>\n",
       "      <th>max</th>\n",
       "      <td>94.850000</td>\n",
       "      <td>30.000000</td>\n",
       "      <td>30.000000</td>\n",
       "      <td>24.000000</td>\n",
       "    </tr>\n",
       "  </tbody>\n",
       "</table>\n",
       "</div>"
      ],
      "text/plain": [
       "                 BMI  PhysicalHealth   MentalHealth      SleepTime\n",
       "count  223856.000000   223856.000000  223856.000000  223856.000000\n",
       "mean       28.327263        3.376488       3.891185       7.096817\n",
       "std         6.361525        7.953337       7.943456       1.437735\n",
       "min        12.020000        0.000000       0.000000       1.000000\n",
       "25%        24.030000        0.000000       0.000000       6.000000\n",
       "50%        27.340000        0.000000       0.000000       7.000000\n",
       "75%        31.420000        2.000000       3.000000       8.000000\n",
       "max        94.850000       30.000000      30.000000      24.000000"
      ]
     },
     "execution_count": 8,
     "metadata": {},
     "output_type": "execute_result"
    }
   ],
   "source": [
    "\n",
    "train_df.describe()"
   ]
  },
  {
   "cell_type": "markdown",
   "id": "539685c2-6292-493e-8b05-2942fb8b9113",
   "metadata": {},
   "source": [
    "# Purpose of these data figures \n",
    "These charts are the min and max of different statistics. This helps the reader get an idea of the range"
   ]
  },
  {
   "cell_type": "code",
   "execution_count": 9,
   "id": "8183af68-2a3a-4b6b-ac48-19b8051b9dbc",
   "metadata": {},
   "outputs": [
    {
     "data": {
      "text/plain": [
       "HeartDisease                           Yes\n",
       "BMI                                  94.85\n",
       "Smoking                                Yes\n",
       "AlcoholDrinking                        Yes\n",
       "Stroke                                 Yes\n",
       "PhysicalHealth                        30.0\n",
       "MentalHealth                          30.0\n",
       "DiffWalking                            Yes\n",
       "Sex                                   Male\n",
       "AgeCategory                    80 or older\n",
       "Race                                 White\n",
       "Diabetic            Yes (during pregnancy)\n",
       "PhysicalActivity                       Yes\n",
       "GenHealth                        Very good\n",
       "SleepTime                             24.0\n",
       "Asthma                                 Yes\n",
       "KidneyDisease                          Yes\n",
       "SkinCancer                             Yes\n",
       "dtype: object"
      ]
     },
     "execution_count": 9,
     "metadata": {},
     "output_type": "execute_result"
    }
   ],
   "source": [
    "np.max(train_df, axis=0)\n",
    "    "
   ]
  },
  {
   "cell_type": "code",
   "execution_count": 10,
   "id": "ba9b0b5e-6379-48ab-9024-6fa2c4c7dddc",
   "metadata": {},
   "outputs": [
    {
     "data": {
      "text/plain": [
       "HeartDisease                                    No\n",
       "BMI                                          12.02\n",
       "Smoking                                         No\n",
       "AlcoholDrinking                                 No\n",
       "Stroke                                          No\n",
       "PhysicalHealth                                 0.0\n",
       "MentalHealth                                   0.0\n",
       "DiffWalking                                     No\n",
       "Sex                                         Female\n",
       "AgeCategory                                  18-24\n",
       "Race                American Indian/Alaskan Native\n",
       "Diabetic                                        No\n",
       "PhysicalActivity                                No\n",
       "GenHealth                                Excellent\n",
       "SleepTime                                      1.0\n",
       "Asthma                                          No\n",
       "KidneyDisease                                   No\n",
       "SkinCancer                                      No\n",
       "dtype: object"
      ]
     },
     "execution_count": 10,
     "metadata": {},
     "output_type": "execute_result"
    }
   ],
   "source": [
    "np.min(train_df, axis=0)"
   ]
  },
  {
   "cell_type": "code",
   "execution_count": 11,
   "id": "2ebb8a82-f0cb-4bf3-9bf1-ab95b6589d9b",
   "metadata": {},
   "outputs": [],
   "source": [
    "X_train, y_train = (\n",
    "    train_df.drop(columns=[\"HeartDisease\"]),\n",
    "    train_df[\"HeartDisease\"],\n",
    ")\n",
    "X_test, y_test = (\n",
    "    test_df.drop(columns=[\"HeartDisease\"]),\n",
    "    test_df[\"HeartDisease\"],\n",
    ")"
   ]
  },
  {
   "cell_type": "code",
   "execution_count": 12,
   "id": "d6d8c28d-8894-4e97-9c10-f3ca6427fdec",
   "metadata": {},
   "outputs": [
    {
     "data": {
      "image/png": "[encoded data removed]",
      "text/plain": [
       "<Figure size 2160x2160 with 2 Axes>"
      ]
     },
     "metadata": {
      "needs_background": "light"
     },
     "output_type": "display_data"
    }
   ],
   "source": [
    "cor = pd.concat((y_train, X_train), axis=1).iloc[:, :30].corr()\n",
    "plt.figure(figsize=(30, 30))\n",
    "sns.set(font_scale=1)\n",
    "sns.heatmap(cor, annot=True, cmap=plt.cm.Blues);"
   ]
  },
  {
   "cell_type": "markdown",
   "id": "a94a1a33-ca8b-4d04-aef6-aa271dfb19da",
   "metadata": {},
   "source": [
    "# Purpose of Figure above\n",
    "This heat map represents more about the correlation between variables which is good for the exploration of what to explore"
   ]
  },
  {
   "cell_type": "code",
   "execution_count": 13,
   "id": "2e562d8b-e075-4486-ba2c-cb79c6e06894",
   "metadata": {},
   "outputs": [
    {
     "data": {
      "text/plain": [
       "Index(['HeartDisease', 'BMI', 'Smoking', 'AlcoholDrinking', 'Stroke',\n",
       "       'PhysicalHealth', 'MentalHealth', 'DiffWalking', 'Sex', 'AgeCategory',\n",
       "       'Race', 'Diabetic', 'PhysicalActivity', 'GenHealth', 'SleepTime',\n",
       "       'Asthma', 'KidneyDisease', 'SkinCancer'],\n",
       "      dtype='object')"
      ]
     },
     "execution_count": 13,
     "metadata": {},
     "output_type": "execute_result"
    }
   ],
   "source": [
    "train_df.columns"
   ]
  },
  {
   "cell_type": "code",
   "execution_count": 14,
   "id": "d0c16369-69da-4fa5-a9c2-fbd38e9eaaaa",
   "metadata": {},
   "outputs": [
    {
     "data": {
      "image/png": "[encoded data removed]",
      "text/plain": [
       "<Figure size 1440x1440 with 4 Axes>"
      ]
     },
     "metadata": {},
     "output_type": "display_data"
    }
   ],
   "source": [
    "train_df.hist(figsize=(20, 20), bins=20);"
   ]
  },
  {
   "cell_type": "markdown",
   "id": "1afb0c81-82c7-4ab0-a074-8e56a9f3a0f8",
   "metadata": {},
   "source": [
    "# Purpose of Figure above\n",
    "These histograms are more about the distributions of data to see if there are any trends going on"
   ]
  },
  {
   "cell_type": "code",
   "execution_count": 15,
   "id": "6ffd28a8-8fc9-4ef4-b41e-231c451ca141",
   "metadata": {},
   "outputs": [],
   "source": [
    "results = {}"
   ]
  },
  {
   "cell_type": "code",
   "execution_count": 18,
   "id": "28269e43-007f-48af-9e2f-371727a82e47",
   "metadata": {},
   "outputs": [
    {
     "data": {
      "text/html": [
       "<div>\n",
       "<style scoped>\n",
       "    .dataframe tbody tr th:only-of-type {\n",
       "        vertical-align: middle;\n",
       "    }\n",
       "\n",
       "    .dataframe tbody tr th {\n",
       "        vertical-align: top;\n",
       "    }\n",
       "\n",
       "    .dataframe thead th {\n",
       "        text-align: right;\n",
       "    }\n",
       "</style>\n",
       "<table border=\"1\" class=\"dataframe\">\n",
       "  <thead>\n",
       "    <tr style=\"text-align: right;\">\n",
       "      <th></th>\n",
       "      <th>dummy</th>\n",
       "    </tr>\n",
       "  </thead>\n",
       "  <tbody>\n",
       "    <tr>\n",
       "      <th>fit_time</th>\n",
       "      <td>0.093 (+/- 0.001)</td>\n",
       "    </tr>\n",
       "    <tr>\n",
       "      <th>score_time</th>\n",
       "      <td>0.062 (+/- 0.002)</td>\n",
       "    </tr>\n",
       "    <tr>\n",
       "      <th>test_score</th>\n",
       "      <td>0.845 (+/- 0.001)</td>\n",
       "    </tr>\n",
       "    <tr>\n",
       "      <th>train_score</th>\n",
       "      <td>0.845 (+/- 0.001)</td>\n",
       "    </tr>\n",
       "  </tbody>\n",
       "</table>\n",
       "</div>"
      ],
      "text/plain": [
       "                         dummy\n",
       "fit_time     0.093 (+/- 0.001)\n",
       "score_time   0.062 (+/- 0.002)\n",
       "test_score   0.845 (+/- 0.001)\n",
       "train_score  0.845 (+/- 0.001)"
      ]
     },
     "execution_count": 18,
     "metadata": {},
     "output_type": "execute_result"
    }
   ],
   "source": [
    "dummy = DummyClassifier(strategy=\"stratified\")\n",
    "\n",
    "results[\"dummy\"] = mean_std_cross_val_scores(\n",
    "    dummy, X_train, y_train, return_train_score=True\n",
    ")\n",
    "pd.DataFrame(results)"
   ]
  },
  {
   "cell_type": "code",
   "execution_count": 17,
   "id": "4bd15a16-66fc-4e64-bdd0-fd34a04bb4c7",
   "metadata": {},
   "outputs": [],
   "source": [
    "def mean_std_cross_val_scores(model, X_train, y_train, **kwargs):\n",
    "    \"\"\"\n",
    "    Returns mean and std of cross validation\n",
    "    \"\"\"\n",
    "    scores = cross_validate(model, X_train, y_train, **kwargs)\n",
    "\n",
    "    mean_scores = pd.DataFrame(scores).mean()\n",
    "    std_scores = pd.DataFrame(scores).std()\n",
    "    out_col = []\n",
    "\n",
    "    for i in range(len(mean_scores)):\n",
    "        out_col.append((f\"%0.3f (+/- %0.3f)\" % (mean_scores[i], std_scores[i])))\n",
    "\n",
    "    return pd.Series(data=out_col, index=mean_scores.index)"
   ]
  },
  {
   "cell_type": "markdown",
   "id": "5467e91a-ed02-43fe-9cc9-3f5e22ea9216",
   "metadata": {},
   "source": [
    "# Purpose of function\n",
    "This function is helpful for cross validating the scores which means it will go through different parts of the data and "
   ]
  },
  {
   "cell_type": "code",
   "execution_count": 19,
   "id": "6d254be2-c5dd-43aa-aee9-4aa494bac476",
   "metadata": {},
   "outputs": [],
   "source": [
    "# Let's identify numeric and categorical features\n",
    "\n",
    "numeric_features = [\n",
    "    \"BMI\",\n",
    "    \"PhysicalHealth\",\n",
    "    \"MentalHealth\",\n",
    "    \"SleepTime\"\n",
    "]\n",
    "#binary_features = [\"SEX\"]\n",
    "#categorical_features = [\"EDUCATION\", \"MARRIAGE\"]\n",
    "target = \"HeartDisease\""
   ]
  },
  {
   "cell_type": "markdown",
   "id": "fba82e97-8630-4460-905c-3e26c62c233d",
   "metadata": {},
   "source": [
    "# Purpose of the feature selections\n",
    "The purpose of selecting these variables are because I wanted numeric data to make it easier to also make the machine learning algorithms more interpretable "
   ]
  },
  {
   "cell_type": "markdown",
   "id": "22d67f47-47c0-48c2-b72e-fc6009fc5900",
   "metadata": {},
   "source": [
    "# Purpose of Below\n",
    "The column transformer is mainly for using preprocessing the data to make it cleaner"
   ]
  },
  {
   "cell_type": "code",
   "execution_count": 20,
   "id": "cc95a5d3-9e3d-49d7-af67-a0cd2ab550dc",
   "metadata": {},
   "outputs": [],
   "source": [
    "preprocessor = make_column_transformer(\n",
    "   \n",
    "    (StandardScaler(), numeric_features),\n",
    "  \n",
    ")"
   ]
  },
  {
   "cell_type": "code",
   "execution_count": 21,
   "id": "312fb631-3445-4428-885f-fab199c9137d",
   "metadata": {},
   "outputs": [
    {
     "data": {
      "text/html": [
       "<div>\n",
       "<style scoped>\n",
       "    .dataframe tbody tr th:only-of-type {\n",
       "        vertical-align: middle;\n",
       "    }\n",
       "\n",
       "    .dataframe tbody tr th {\n",
       "        vertical-align: top;\n",
       "    }\n",
       "\n",
       "    .dataframe thead th {\n",
       "        text-align: right;\n",
       "    }\n",
       "</style>\n",
       "<table border=\"1\" class=\"dataframe\">\n",
       "  <thead>\n",
       "    <tr style=\"text-align: right;\">\n",
       "      <th></th>\n",
       "      <th>dummy</th>\n",
       "      <th>logreg</th>\n",
       "    </tr>\n",
       "  </thead>\n",
       "  <tbody>\n",
       "    <tr>\n",
       "      <th>fit_time</th>\n",
       "      <td>0.093 (+/- 0.001)</td>\n",
       "      <td>0.324 (+/- 0.004)</td>\n",
       "    </tr>\n",
       "    <tr>\n",
       "      <th>score_time</th>\n",
       "      <td>0.062 (+/- 0.002)</td>\n",
       "      <td>0.065 (+/- 0.001)</td>\n",
       "    </tr>\n",
       "    <tr>\n",
       "      <th>test_score</th>\n",
       "      <td>0.845 (+/- 0.001)</td>\n",
       "      <td>0.788 (+/- 0.002)</td>\n",
       "    </tr>\n",
       "    <tr>\n",
       "      <th>train_score</th>\n",
       "      <td>0.845 (+/- 0.001)</td>\n",
       "      <td>0.788 (+/- 0.003)</td>\n",
       "    </tr>\n",
       "  </tbody>\n",
       "</table>\n",
       "</div>"
      ],
      "text/plain": [
       "                         dummy             logreg\n",
       "fit_time     0.093 (+/- 0.001)  0.324 (+/- 0.004)\n",
       "score_time   0.062 (+/- 0.002)  0.065 (+/- 0.001)\n",
       "test_score   0.845 (+/- 0.001)  0.788 (+/- 0.002)\n",
       "train_score  0.845 (+/- 0.001)  0.788 (+/- 0.003)"
      ]
     },
     "execution_count": 21,
     "metadata": {},
     "output_type": "execute_result"
    }
   ],
   "source": [
    "pipe_lr = make_pipeline(\n",
    "     preprocessor,LogisticRegression(max_iter=1000, class_weight=\"balanced\")\n",
    ")\n",
    "results[\"logreg\"] = mean_std_cross_val_scores(\n",
    "    pipe_lr, X_train, y_train, return_train_score=True\n",
    ")\n",
    "pd.DataFrame(results)"
   ]
  },
  {
   "cell_type": "code",
   "execution_count": 22,
   "id": "27a4bd48-1276-4ead-bf93-3ea37709a31d",
   "metadata": {},
   "outputs": [
    {
     "data": {
      "text/html": [
       "<div>\n",
       "<style scoped>\n",
       "    .dataframe tbody tr th:only-of-type {\n",
       "        vertical-align: middle;\n",
       "    }\n",
       "\n",
       "    .dataframe tbody tr th {\n",
       "        vertical-align: top;\n",
       "    }\n",
       "\n",
       "    .dataframe thead th {\n",
       "        text-align: right;\n",
       "    }\n",
       "</style>\n",
       "<table border=\"1\" class=\"dataframe\">\n",
       "  <thead>\n",
       "    <tr style=\"text-align: right;\">\n",
       "      <th></th>\n",
       "      <th>fit_time</th>\n",
       "      <th>score_time</th>\n",
       "      <th>test_score</th>\n",
       "      <th>train_score</th>\n",
       "    </tr>\n",
       "  </thead>\n",
       "  <tbody>\n",
       "    <tr>\n",
       "      <th>dummy</th>\n",
       "      <td>0.093 (+/- 0.001)</td>\n",
       "      <td>0.062 (+/- 0.002)</td>\n",
       "      <td>0.845 (+/- 0.001)</td>\n",
       "      <td>0.845 (+/- 0.001)</td>\n",
       "    </tr>\n",
       "    <tr>\n",
       "      <th>logreg</th>\n",
       "      <td>0.324 (+/- 0.004)</td>\n",
       "      <td>0.065 (+/- 0.001)</td>\n",
       "      <td>0.788 (+/- 0.002)</td>\n",
       "      <td>0.788 (+/- 0.003)</td>\n",
       "    </tr>\n",
       "    <tr>\n",
       "      <th>random forest</th>\n",
       "      <td>10.455 (+/- 0.214)</td>\n",
       "      <td>0.785 (+/- 0.020)</td>\n",
       "      <td>0.801 (+/- 0.002)</td>\n",
       "      <td>0.878 (+/- 0.002)</td>\n",
       "    </tr>\n",
       "  </tbody>\n",
       "</table>\n",
       "</div>"
      ],
      "text/plain": [
       "                         fit_time         score_time         test_score  \\\n",
       "dummy           0.093 (+/- 0.001)  0.062 (+/- 0.002)  0.845 (+/- 0.001)   \n",
       "logreg          0.324 (+/- 0.004)  0.065 (+/- 0.001)  0.788 (+/- 0.002)   \n",
       "random forest  10.455 (+/- 0.214)  0.785 (+/- 0.020)  0.801 (+/- 0.002)   \n",
       "\n",
       "                     train_score  \n",
       "dummy          0.845 (+/- 0.001)  \n",
       "logreg         0.788 (+/- 0.003)  \n",
       "random forest  0.878 (+/- 0.002)  "
      ]
     },
     "execution_count": 22,
     "metadata": {},
     "output_type": "execute_result"
    }
   ],
   "source": [
    "\n",
    "from sklearn.ensemble import RandomForestClassifier\n",
    "\n",
    "\n",
    "models = {\n",
    "   \n",
    "    \"random forest\": RandomForestClassifier(class_weight=\"balanced\", random_state=2)\n",
    "    # \"xgboost\": XGBClassifier(scale_pos_weight=ratio, random_state=2),\n",
    "    \n",
    "}\n",
    "\n",
    "for name, model in models.items():\n",
    "    pipe = make_pipeline(preprocessor, model)\n",
    "    results[name] = mean_std_cross_val_scores(\n",
    "        pipe, X_train, y_train, return_train_score=True\n",
    "    )\n",
    "\n",
    "pd.DataFrame(results).T"
   ]
  },
  {
   "cell_type": "code",
   "execution_count": 23,
   "id": "ef8ba889-59ff-460f-8851-99ca1550e448",
   "metadata": {},
   "outputs": [
    {
     "data": {
      "text/html": [
       "<div>\n",
       "<style scoped>\n",
       "    .dataframe tbody tr th:only-of-type {\n",
       "        vertical-align: middle;\n",
       "    }\n",
       "\n",
       "    .dataframe tbody tr th {\n",
       "        vertical-align: top;\n",
       "    }\n",
       "\n",
       "    .dataframe thead th {\n",
       "        text-align: right;\n",
       "    }\n",
       "</style>\n",
       "<table border=\"1\" class=\"dataframe\">\n",
       "  <thead>\n",
       "    <tr style=\"text-align: right;\">\n",
       "      <th></th>\n",
       "      <th>Importance</th>\n",
       "    </tr>\n",
       "  </thead>\n",
       "  <tbody>\n",
       "    <tr>\n",
       "      <th>PhysicalHealth</th>\n",
       "      <td>1.0</td>\n",
       "    </tr>\n",
       "    <tr>\n",
       "      <th>BMI</th>\n",
       "      <td>0.0</td>\n",
       "    </tr>\n",
       "    <tr>\n",
       "      <th>MentalHealth</th>\n",
       "      <td>0.0</td>\n",
       "    </tr>\n",
       "    <tr>\n",
       "      <th>SleepTime</th>\n",
       "      <td>0.0</td>\n",
       "    </tr>\n",
       "  </tbody>\n",
       "</table>\n",
       "</div>"
      ],
      "text/plain": [
       "                Importance\n",
       "PhysicalHealth         1.0\n",
       "BMI                    0.0\n",
       "MentalHealth           0.0\n",
       "SleepTime              0.0"
      ]
     },
     "execution_count": 23,
     "metadata": {},
     "output_type": "execute_result"
    }
   ],
   "source": [
    "model = make_pipeline(preprocessor, RandomForestClassifier(random_state=123, n_estimators=1, max_depth=1))\n",
    "model.fit(X_train, y_train)\n",
    "feature_names = (\n",
    "    numeric_features \n",
    ")\n",
    "data = {\n",
    "    \"Importance\": model.named_steps[\"randomforestclassifier\"].feature_importances_,\n",
    "}\n",
    "imps = pd.DataFrame(data=data, index=feature_names,).sort_values(\n",
    "    by=\"Importance\", ascending=False\n",
    ")[:10]\n",
    "imps"
   ]
  },
  {
   "cell_type": "code",
   "execution_count": null,
   "id": "83b98fa1-bf25-4868-b19b-ccf36cdef08e",
   "metadata": {},
   "outputs": [],
   "source": []
  },
  {
   "cell_type": "markdown",
   "id": "a76cbcaa-8d8e-42eb-96a6-a3eed404f1db",
   "metadata": {},
   "source": [
    "# References:\n",
    "https://www.kaggle.com/datasets/kamilpytlak/personal-key-indicators-of-heart-disease\n",
    "\n",
    "This is where the data is from\n"
   ]
  },
  {
   "cell_type": "code",
   "execution_count": null,
   "id": "f26a54d7-5a82-4a5d-8003-eddd7923386c",
   "metadata": {},
   "outputs": [],
   "source": []
  }
 ],
 "metadata": {
  "kernelspec": {
   "display_name": "Python 3 (ipykernel)",
   "language": "python",
   "name": "python3"
  },
  "language_info": {
   "codemirror_mode": {
    "name": "ipython",
    "version": 3
   },
   "file_extension": ".py",
   "mimetype": "text/x-python",
   "name": "python",
   "nbconvert_exporter": "python",
   "pygments_lexer": "ipython3",
   "version": "3.9.9"
  }
 },
 "nbformat": 4,
 "nbformat_minor": 5
}
